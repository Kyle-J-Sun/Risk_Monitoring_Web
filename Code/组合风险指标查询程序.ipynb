{
 "cells": [
  {
   "cell_type": "code",
   "execution_count": 1,
   "metadata": {
    "ExecuteTime": {
     "end_time": "2021-05-13T01:47:18.752275Z",
     "start_time": "2021-05-13T01:47:08.256431Z"
    }
   },
   "outputs": [],
   "source": [
    "import datetime as dt\n",
    "from lookup import *\n",
    "from IPython.display import HTML\n",
    "pd.options.display.max_columns = None\n",
    "pd.options.display.max_rows = None"
   ]
  },
  {
   "cell_type": "code",
   "execution_count": 2,
   "metadata": {
    "ExecuteTime": {
     "end_time": "2021-05-13T02:20:30.019090Z",
     "start_time": "2021-05-13T02:20:30.008097Z"
    },
    "slideshow": {
     "slide_type": "slide"
    }
   },
   "outputs": [
    {
     "data": {
      "text/html": [
       "<body>\n",
       "    <div>\n",
       "\n",
       "    <h1>组合风险指标查询程序</h1>\n",
       "    <hr />\n",
       "    <p><b> 作者: 孙旌凯 (Kyle Sun) </b></p>\n",
       "    <p><b> 修改日期: 2021/05/20 </b></p>\n",
       "    <p><b> 版本: 0.0.9 </b></p>\n",
       "    \n",
       "    <h2>使用前须知</h2>\n",
       "    <hr />\n",
       "    \n",
       "    <div style=\"background-color:#E0E0E0\", class = \"center\">\n",
       "    <ul>\n",
       "        <li> <b>使用方法:</b> 点击下面小插件选择需要的数值<br/><br/></li>\n",
       "        <li> 单击下方滑动条右边数值可直接进行编辑<br/><br/> </li>\n",
       "        <li>在查询数据以后，点击带有 Save To CSV 字样按钮即可将数据存入本地文件夹<br/><br/></li>\n",
       "        <li>所有数据统一存在 Results 文件夹下<br/><br/></li>\n",
       "        <li>数据来源: 所有数据均来自于 xrisk 数据库和 wind 数据库。<br/><br/></li>\n",
       "        <li><b>如需查看所有组合数据请勾选 “查看所有组合” 勾选框</b></li>\n",
       "    </ul>\n",
       "    </div>\n",
       "    </div>\n",
       "</body>\n"
      ],
      "text/plain": [
       "<IPython.core.display.HTML object>"
      ]
     },
     "metadata": {},
     "output_type": "display_data"
    }
   ],
   "source": [
    "%%html\n",
    "<body>\n",
    "    <div>\n",
    "\n",
    "    <h1>组合风险指标查询程序</h1>\n",
    "    <hr />\n",
    "    <p><b> 作者: 孙旌凯 (Kyle Sun) </b></p>\n",
    "    <p><b> 修改日期: 2021/05/20 </b></p>\n",
    "    <p><b> 版本: 0.0.9 </b></p>\n",
    "    \n",
    "    <h2>使用前须知</h2>\n",
    "    <hr />\n",
    "    \n",
    "    <div style=\"background-color:#E0E0E0\", class = \"center\">\n",
    "    <ul>\n",
    "        <li> <b>使用方法:</b> 点击下面小插件选择需要的数值<br/><br/></li>\n",
    "        <li> 单击下方滑动条右边数值可直接进行编辑<br/><br/> </li>\n",
    "        <li>在查询数据以后，点击带有 Save To CSV 字样按钮即可将数据存入本地文件夹<br/><br/></li>\n",
    "        <li>所有数据统一存在 Results 文件夹下<br/><br/></li>\n",
    "        <li>数据来源: 所有数据均来自于 xrisk 数据库和 wind 数据库。<br/><br/></li>\n",
    "        <li><b>如需查看所有组合数据请勾选 “查看所有组合” 勾选框</b></li>\n",
    "    </ul>\n",
    "    </div>\n",
    "    </div>\n",
    "</body>"
   ]
  },
  {
   "cell_type": "code",
   "execution_count": 3,
   "metadata": {
    "ExecuteTime": {
     "end_time": "2021-05-13T02:20:56.364210Z",
     "start_time": "2021-05-13T02:20:56.353218Z"
    }
   },
   "outputs": [
    {
     "data": {
      "text/html": [
       "\n",
       "             <div>\n",
       "             <h2>日期显示</h2>\n",
       "             <hr/>\n",
       "             <h3>今天是: 2021-05-21</h3>              <h3>上一个交易日是: 2019-12-12</h3>\n",
       "             </div>\n",
       "            "
      ],
      "text/plain": [
       "<IPython.core.display.HTML object>"
      ]
     },
     "metadata": {},
     "output_type": "display_data"
    }
   ],
   "source": [
    "display(HTML(\"\"\"\n",
    "             <div>\n",
    "             <h2>日期显示</h2>\n",
    "             <hr/>\n",
    "             <h3>今天是: %s</h3> \\\n",
    "             <h3>上一个交易日是: %s</h3>\n",
    "             </div>\n",
    "            \"\"\" % (str(dt.datetime.today())[0:10], str(yesterday)[0:10])))"
   ]
  },
  {
   "cell_type": "code",
   "execution_count": 4,
   "metadata": {},
   "outputs": [
    {
     "data": {
      "text/html": [
       "<div>\n",
       "<h2>组合可变现能力查询</h2>\n",
       "<p><b> 该模块监控单日可变现能力低于20%的公募产品，并且返回相对应的产品投资结构信息 </b></p>\n",
       "<hr />\n",
       "\n",
       "<div style = \"background-color:#E0E0E0\">\n",
       "1. 第一个框为日期选择框，选择一个需要查询的特定日期 <br/><br/>\n",
       "2. 勾选 <i>查看所有组合</i> 选择框可查看当日所有组合数据\n",
       "</div>\n",
       "</div>\n"
      ],
      "text/plain": [
       "<IPython.core.display.HTML object>"
      ]
     },
     "metadata": {},
     "output_type": "display_data"
    }
   ],
   "source": [
    "%%html\n",
    "<div>\n",
    "<h2>组合可变现能力查询</h2>\n",
    "<p><b> 该模块监控单日可变现能力低于20%的公募产品，并且返回相对应的产品投资结构信息 </b></p>\n",
    "<hr />\n",
    "\n",
    "<div style = \"background-color:#E0E0E0\">\n",
    "1. 第一个框为日期选择框，选择一个需要查询的特定日期 <br/><br/>\n",
    "2. 勾选 <i>查看所有组合</i> 选择框可查看当日所有组合数据\n",
    "</div>\n",
    "</div>"
   ]
  },
  {
   "cell_type": "code",
   "execution_count": 5,
   "metadata": {},
   "outputs": [
    {
     "data": {
      "application/vnd.jupyter.widget-view+json": {
       "model_id": "c82bd18e68b34c2496d765bd9315ace6",
       "version_major": 2,
       "version_minor": 0
      },
      "text/plain": [
       "interactive(children=(DatePicker(value=Timestamp('2019-12-12 00:00:00'), description='选择日期'), FloatSlider(valu…"
      ]
     },
     "metadata": {},
     "output_type": "display_data"
    },
    {
     "data": {
      "text/plain": [
       "<function lookup.port_liquidity1_pre(date, threshold=20, verbose=False, showAll=False)>"
      ]
     },
     "metadata": {},
     "output_type": "display_data"
    }
   ],
   "source": [
    "liquidity1_interact()"
   ]
  },
  {
   "cell_type": "code",
   "execution_count": 6,
   "metadata": {
    "ExecuteTime": {
     "end_time": "2021-05-13T02:21:23.618046Z",
     "start_time": "2021-05-13T02:21:23.600059Z"
    }
   },
   "outputs": [
    {
     "data": {
      "text/html": [
       "<div>\n",
       "<h2>组合净值波动与最大回撤指标</h2>\n",
       "<p><b> 该模块查询所有公募产品的净值波动率，最大回撤和市场Beta指标 </b></p>\n",
       "<hr />\n",
       "\n",
       "<div style = \"background-color:#E0E0E0\">\n",
       "1. 单击日期筛选框右侧日历小图标，选择一个需要查询的特定日期 <br/><br/>\n",
       "2. 按住<b>Ctrl</b>点击组合名称可进行多选 (先任意点击组合名称，然后按住<b>Ctrl + A</b>可进行全选)<br/><br/>\n",
       "3. 默认只显示前十大净值波动率的组合产品信息<br/><br/>\n",
       "4. 滑动 <i>计算天数</i> 筛选滑条可更改计算日期区间。（单位为自然日）<br/><br/>\n",
       "5. 净值波动率默认计算天数为31个自然日，最大回撤和市场Beta默认计算天数为365个自然日 <b>(拖动下列滑动条可改变指标计算天数)</b><br/><br/>\n",
       "6. <b>您可以选择使用多选框查询组合，也可以直接在组合代码输入框输入六位的组合代码进行查询（多个组合代码之间使用英文分号分隔）</b>\n",
       "</div>\n",
       "<b>PS:</b> 仅计算了距离查询日期计算样本数量大于10的产品净值波动率\n",
       "</div>\n"
      ],
      "text/plain": [
       "<IPython.core.display.HTML object>"
      ]
     },
     "metadata": {},
     "output_type": "display_data"
    }
   ],
   "source": [
    "%%html\n",
    "<div>\n",
    "<h2>组合净值波动与最大回撤指标</h2>\n",
    "<p><b> 该模块查询所有公募产品的净值波动率，最大回撤和市场Beta指标 </b></p>\n",
    "<hr />\n",
    "\n",
    "<div style = \"background-color:#E0E0E0\">\n",
    "1. 单击日期筛选框右侧日历小图标，选择一个需要查询的特定日期 <br/><br/>\n",
    "2. 按住<b>Ctrl</b>点击组合名称可进行多选 (先任意点击组合名称，然后按住<b>Ctrl + A</b>可进行全选)<br/><br/>\n",
    "3. 默认只显示前十大净值波动率的组合产品信息<br/><br/>\n",
    "4. 滑动 <i>计算天数</i> 筛选滑条可更改计算日期区间。（单位为自然日）<br/><br/>\n",
    "5. 净值波动率默认计算天数为31个自然日，最大回撤和市场Beta默认计算天数为365个自然日 <b>(拖动下列滑动条可改变指标计算天数)</b><br/><br/>\n",
    "6. <b>您可以选择使用多选框查询组合，也可以直接在组合代码输入框输入六位的组合代码进行查询（多个组合代码之间使用英文分号分隔）</b>\n",
    "</div>\n",
    "<b>PS:</b> 仅计算了距离查询日期计算样本数量大于10的产品净值波动率\n",
    "</div>"
   ]
  },
  {
   "cell_type": "code",
   "execution_count": 8,
   "metadata": {},
   "outputs": [
    {
     "data": {
      "application/vnd.jupyter.widget-view+json": {
       "model_id": "93e60ab292564d159d8eb224aef24e30",
       "version_major": 2,
       "version_minor": 0
      },
      "text/plain": [
       "interactive(children=(Text(value='', description='请输入组合代码(可多个)：', layout=Layout(width='45%'), placeholder='每个组…"
      ]
     },
     "metadata": {},
     "output_type": "display_data"
    },
    {
     "data": {
      "text/plain": [
       "<function lookup.volaMaxWD_interact.<locals>.f(x)>"
      ]
     },
     "metadata": {},
     "output_type": "display_data"
    },
    {
     "data": {
      "application/vnd.jupyter.widget-view+json": {
       "model_id": "39df5a5b0c2045379a5273e6d5b37a5f",
       "version_major": 2,
       "version_minor": 0
      },
      "text/plain": [
       "interactive(children=(DatePicker(value=Timestamp('2019-12-12 00:00:00'), description='结束日期'), SelectMultiple(d…"
      ]
     },
     "metadata": {},
     "output_type": "display_data"
    },
    {
     "data": {
      "text/plain": [
       "<function lookup.port_VolaWD(date, portList=[], volaDura=31, maxWDDura=365, betaDura=365, verbose=False)>"
      ]
     },
     "metadata": {},
     "output_type": "display_data"
    }
   ],
   "source": [
    "# 组合净值波动与最大回撤指标\n",
    "volaMaxWD_interact()"
   ]
  },
  {
   "cell_type": "code",
   "execution_count": 9,
   "metadata": {},
   "outputs": [
    {
     "data": {
      "text/html": [
       "\n",
       "<h2>组合重仓行业展示</h2>\n",
       "<div>\n",
       "<p><b>该模块分为两个部分：</b></p>\n",
       "<li> 第一个部分为组合前十大持仓标的数据概览；<br/><br/> </li>\n",
       "<li> 第二个部分为组合前三大重仓行业与行业占比概览。</li>\n",
       "</div>\n",
       "<hr/>\n"
      ],
      "text/plain": [
       "<IPython.core.display.HTML object>"
      ]
     },
     "metadata": {},
     "output_type": "display_data"
    },
    {
     "data": {
      "text/html": [
       "\n",
       "<h3>组合前十大持仓股票概览</h3>\n",
       "<ul style = \"background-color:#E0E0E0\">\n",
       "<li> 请先选择需要查询的日期，确认后单击 “开始查询” 按钮即可查询</li>\n",
       "<li>按住<b>Ctrl</b>点击组合名称可进行多选 (先任意点击组合名称，然后按住<b>Ctrl + A</b>可进行全选)</li>\n",
       "<li><b>您可以选择使用多选框查询组合，也可以直接在组合代码输入框输入六位的组合代码进行查询（多个组合代码之间使用英文分号分隔）</b></li>\n",
       "</ul>\n"
      ],
      "text/plain": [
       "<IPython.core.display.HTML object>"
      ]
     },
     "metadata": {},
     "output_type": "display_data"
    },
    {
     "data": {
      "application/vnd.jupyter.widget-view+json": {
       "model_id": "aa762313bb144e0cb00ad51e91fab27a",
       "version_major": 2,
       "version_minor": 0
      },
      "text/plain": [
       "interactive(children=(Text(value='', description='请输入组合代码(可多个)：', layout=Layout(width='45%'), placeholder='每个组…"
      ]
     },
     "metadata": {},
     "output_type": "display_data"
    },
    {
     "data": {
      "text/plain": [
       "<function lookup.top10StockPosition_interact.<locals>.f(x)>"
      ]
     },
     "metadata": {},
     "output_type": "display_data"
    },
    {
     "data": {
      "application/vnd.jupyter.widget-view+json": {
       "model_id": "23ff1d452e2a4ef39511de369398052a",
       "version_major": 2,
       "version_minor": 0
      },
      "text/plain": [
       "interactive(children=(DatePicker(value=Timestamp('2019-12-12 00:00:00'), description='选择日期'), SelectMultiple(d…"
      ]
     },
     "metadata": {},
     "output_type": "display_data"
    },
    {
     "data": {
      "text/plain": [
       "<function lookup.top10Position(date, portList=[])>"
      ]
     },
     "metadata": {},
     "output_type": "display_data"
    },
    {
     "data": {
      "text/html": [
       "\n",
       "<h3>组合前三大重仓行业概览</h3>\n",
       "<ul style = \"background-color:#E0E0E0\">\n",
       "<li> 请先选择需要查询的日期及需要查询的行业等级，确认后单击 “开始查询” 按钮即可查询</li>\n",
       "<li>按住<b>Ctrl</b>点击组合名称可进行多选 (先任意点击组合名称，然后按住<b>Ctrl + A</b>可进行全选)</li>\n",
       "<li><b>您可以选择使用多选框查询组合，也可以直接在组合代码输入框输入六位的组合代码进行查询（多个组合代码之间使用英文分号分隔）</b></li>\n",
       "</ul>\n"
      ],
      "text/plain": [
       "<IPython.core.display.HTML object>"
      ]
     },
     "metadata": {},
     "output_type": "display_data"
    },
    {
     "data": {
      "application/vnd.jupyter.widget-view+json": {
       "model_id": "76df042812ca48f5a981ad16bda2772b",
       "version_major": 2,
       "version_minor": 0
      },
      "text/plain": [
       "interactive(children=(Text(value='', description='请输入组合代码(可多个)：', layout=Layout(width='45%'), placeholder='每个组…"
      ]
     },
     "metadata": {},
     "output_type": "display_data"
    },
    {
     "data": {
      "text/plain": [
       "<function lookup.top3IndPosition_interact.<locals>.f(x)>"
      ]
     },
     "metadata": {},
     "output_type": "display_data"
    },
    {
     "data": {
      "application/vnd.jupyter.widget-view+json": {
       "model_id": "fe1135e7f47a4bcab9c1bb9445fe73b8",
       "version_major": 2,
       "version_minor": 0
      },
      "text/plain": [
       "interactive(children=(DatePicker(value=Timestamp('2019-12-12 00:00:00'), description='选择日期'), Dropdown(descrip…"
      ]
     },
     "metadata": {},
     "output_type": "display_data"
    },
    {
     "data": {
      "text/plain": [
       "<function lookup.top3IndPosition(date, indClass, portList=[])>"
      ]
     },
     "metadata": {},
     "output_type": "display_data"
    }
   ],
   "source": [
    "display(HTML(\"\"\"\n",
    "<h2>组合重仓行业展示</h2>\n",
    "<div>\n",
    "<p><b>该模块分为两个部分：</b></p>\n",
    "<li> 第一个部分为组合前十大持仓标的数据概览；<br/><br/> </li>\n",
    "<li> 第二个部分为组合前三大重仓行业与行业占比概览。</li>\n",
    "</div>\n",
    "<hr/>\n",
    "\"\"\"))\n",
    "\n",
    "display(HTML(\"\"\"\n",
    "<h3>组合前十大持仓股票概览</h3>\n",
    "<ul style = \"background-color:#E0E0E0\">\n",
    "<li> 请先选择需要查询的日期，确认后单击 “开始查询” 按钮即可查询</li>\n",
    "<li>按住<b>Ctrl</b>点击组合名称可进行多选 (先任意点击组合名称，然后按住<b>Ctrl + A</b>可进行全选)</li>\n",
    "<li><b>您可以选择使用多选框查询组合，也可以直接在组合代码输入框输入六位的组合代码进行查询（多个组合代码之间使用英文分号分隔）</b></li>\n",
    "</ul>\n",
    "\"\"\"))\n",
    "\n",
    "top10StockPosition_interact()\n",
    "\n",
    "display(HTML(\"\"\"\n",
    "<h3>组合前三大重仓行业概览</h3>\n",
    "<ul style = \"background-color:#E0E0E0\">\n",
    "<li> 请先选择需要查询的日期及需要查询的行业等级，确认后单击 “开始查询” 按钮即可查询</li>\n",
    "<li>按住<b>Ctrl</b>点击组合名称可进行多选 (先任意点击组合名称，然后按住<b>Ctrl + A</b>可进行全选)</li>\n",
    "<li><b>您可以选择使用多选框查询组合，也可以直接在组合代码输入框输入六位的组合代码进行查询（多个组合代码之间使用英文分号分隔）</b></li>\n",
    "</ul>\n",
    "\"\"\"))\n",
    "\n",
    "top3IndPosition_interact()"
   ]
  },
  {
   "cell_type": "code",
   "execution_count": null,
   "metadata": {},
   "outputs": [],
   "source": []
  }
 ],
 "metadata": {
  "deletable": false,
  "editable": false,
  "hide_input": false,
  "kernelspec": {
   "display_name": "Python 3",
   "language": "python",
   "name": "python3"
  },
  "language_info": {
   "codemirror_mode": {
    "name": "ipython",
    "version": 3
   },
   "file_extension": ".py",
   "mimetype": "text/x-python",
   "name": "python",
   "nbconvert_exporter": "python",
   "pygments_lexer": "ipython3",
   "version": "3.8.8"
  }
 },
 "nbformat": 4,
 "nbformat_minor": 4
}
