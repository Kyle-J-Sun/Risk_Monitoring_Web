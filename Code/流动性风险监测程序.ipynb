{
 "cells": [
  {
   "cell_type": "code",
   "execution_count": 1,
   "metadata": {
    "ExecuteTime": {
     "end_time": "2021-05-14T02:41:40.824051Z",
     "start_time": "2021-05-14T02:41:27.296463Z"
    }
   },
   "outputs": [],
   "source": [
    "# Import necessary functions\n",
    "from surveillance import *\n",
    "from IPython.display import HTML, clear_output\n",
    "pd.options.display.max_columns = None\n",
    "pd.options.display.max_rows = None"
   ]
  },
  {
   "cell_type": "code",
   "execution_count": 2,
   "metadata": {
    "ExecuteTime": {
     "end_time": "2021-05-14T02:41:40.855036Z",
     "start_time": "2021-05-14T02:41:40.828058Z"
    }
   },
   "outputs": [
    {
     "data": {
      "text/html": [
       "<h1>组合产品流动性风险指标监测程序</h1>\n",
       "<hr/>\n",
       "<p><b> 作者: 孙旌凯 (Kyle Sun) </b></p>\n",
       "<p><b> 修改日期: 2021/05/19 </b></p>\n",
       "<p><b> 版本: 0.0.8 </b></p>\n",
       "\n",
       "<h2>使用前须知</h2>\n",
       "\n",
       "<ul style=\"background-color:#E0E0E0\">\n",
       "\n",
       "<li> 单击下方滑动条右边数值可直接进行编辑<br/><br/></li>\n",
       "\n",
       "<li> 在查询数据以后，点击带有 Save To CSV 字样按钮即可将数据存入本地文件夹<br/><br/></li>\n",
       "\n",
       "<li> 所有数据统一存在 Results 文件夹下<br/><br/></li>\n",
       "\n",
       "<li> <b>数据来源:</b> 所有数据均来自于 xrisk 数据库和 wind 数据库。</li>\n",
       "</ul>\n"
      ],
      "text/plain": [
       "<IPython.core.display.HTML object>"
      ]
     },
     "metadata": {},
     "output_type": "display_data"
    }
   ],
   "source": [
    "%%html\n",
    "<h1>组合产品流动性风险指标监测程序</h1>\n",
    "<hr/>\n",
    "<p><b> 作者: 孙旌凯 (Kyle Sun) </b></p>\n",
    "<p><b> 修改日期: 2021/05/19 </b></p>\n",
    "<p><b> 版本: 0.0.8 </b></p>\n",
    "\n",
    "<h2>使用前须知</h2>\n",
    "\n",
    "<ul style=\"background-color:#E0E0E0\">\n",
    "\n",
    "<li> 单击下方滑动条右边数值可直接进行编辑<br/><br/></li>\n",
    "\n",
    "<li> 在查询数据以后，点击带有 Save To CSV 字样按钮即可将数据存入本地文件夹<br/><br/></li>\n",
    "\n",
    "<li> 所有数据统一存在 Results 文件夹下<br/><br/></li>\n",
    "\n",
    "<li> <b>数据来源:</b> 所有数据均来自于 xrisk 数据库和 wind 数据库。</li>\n",
    "</ul>"
   ]
  },
  {
   "cell_type": "code",
   "execution_count": 3,
   "metadata": {
    "ExecuteTime": {
     "end_time": "2021-05-14T02:41:40.979872Z",
     "start_time": "2021-05-14T02:41:40.860034Z"
    }
   },
   "outputs": [
    {
     "data": {
      "text/html": [
       "\n",
       "             <div>\n",
       "             <h2>日期显示</h2>\n",
       "             <hr/>\n",
       "             <h3>今天是: 2021-05-21</h3>              <h3>上一个交易日是: 2019-12-12</h3>\n",
       "             </div>\n",
       "            "
      ],
      "text/plain": [
       "<IPython.core.display.HTML object>"
      ]
     },
     "metadata": {},
     "output_type": "display_data"
    }
   ],
   "source": [
    "display(HTML(\"\"\"\n",
    "             <div>\n",
    "             <h2>日期显示</h2>\n",
    "             <hr/>\n",
    "             <h3>今天是: %s</h3> \\\n",
    "             <h3>上一个交易日是: %s</h3>\n",
    "             </div>\n",
    "            \"\"\" % (str(dt.datetime.today())[0:10], str(yesterday)[0:10])))"
   ]
  },
  {
   "cell_type": "code",
   "execution_count": 4,
   "metadata": {
    "ExecuteTime": {
     "end_time": "2021-05-14T02:41:42.261880Z",
     "start_time": "2021-05-14T02:41:40.983867Z"
    }
   },
   "outputs": [
    {
     "data": {
      "text/html": [
       "\n",
       "<h2>持仓占总股本比例监控 (A股市场)</h2>\n",
       "<p> <b>该模块主要监控投资标的持仓占总股本比例大于5%的产品</b> </p>\n",
       "<hr />\n",
       "\n",
       "<ul style = \"background-color:#E0E0E0\">\n",
       "<li> 第一个框为日期选择框，选择一个需要查询的特定日期  <br/><br/> </li>\n",
       "<li> “检测数值” 滑动条可以改变具体监测的数值 (单击右边数值可直接编辑)</li>\n",
       "</ul>\n"
      ],
      "text/plain": [
       "<IPython.core.display.HTML object>"
      ]
     },
     "metadata": {},
     "output_type": "display_data"
    },
    {
     "data": {
      "application/vnd.jupyter.widget-view+json": {
       "model_id": "889a596f330a4c9e88047a50e2db02f4",
       "version_major": 2,
       "version_minor": 0
      },
      "text/plain": [
       "interactive(children=(DatePicker(value=Timestamp('2019-12-12 00:00:00'), description='选择日期'), FloatSlider(valu…"
      ]
     },
     "metadata": {},
     "output_type": "display_data"
    },
    {
     "data": {
      "text/plain": [
       "<function surveillance.pct_share_pre(date, threshold=4)>"
      ]
     },
     "metadata": {},
     "output_type": "display_data"
    }
   ],
   "source": [
    "display(HTML(\"\"\"\n",
    "<h2>持仓占总股本比例监控 (A股市场)</h2>\n",
    "<p> <b>该模块主要监控投资标的持仓占总股本比例大于5%的产品</b> </p>\n",
    "<hr />\n",
    "\n",
    "<ul style = \"background-color:#E0E0E0\">\n",
    "<li> 第一个框为日期选择框，选择一个需要查询的特定日期  <br/><br/> </li>\n",
    "<li> “检测数值” 滑动条可以改变具体监测的数值 (单击右边数值可直接编辑)</li>\n",
    "</ul>\n",
    "\"\"\"))\n",
    "    \n",
    "pct_share_interact()"
   ]
  },
  {
   "cell_type": "code",
   "execution_count": 5,
   "metadata": {
    "ExecuteTime": {
     "end_time": "2021-05-14T02:41:48.227330Z",
     "start_time": "2021-05-14T02:41:42.263884Z"
    }
   },
   "outputs": [
    {
     "data": {
      "text/html": [
       "\n",
       "<h2>持股数量占20日成交量指标监测模块 (A股市场)</h2>\n",
       "<p><b> 该模块监控持股数量比20日平均成交量大于200%的所有组合产品 </b></p>\n",
       "<hr />\n",
       "<ul style = \"background-color:#E0E0E0\">\n",
       "<li> 第一个框为日期选择框，选择一个需要查询的特定日期   <br/><br/> </li>\n",
       "<li> 滑动第二个筛选条选择监测数值，筛选所有当天高于该数值的组合产品</li>\n",
       "</ul>\n",
       "<b>PS:</b> 仅计算了距离查询日期计算样本数量大于10的产品净值波动率\n"
      ],
      "text/plain": [
       "<IPython.core.display.HTML object>"
      ]
     },
     "metadata": {},
     "output_type": "display_data"
    },
    {
     "data": {
      "application/vnd.jupyter.widget-view+json": {
       "model_id": "2df3c857b07e4803be9e8e0bbe9fbc19",
       "version_major": 2,
       "version_minor": 0
      },
      "text/plain": [
       "interactive(children=(DatePicker(value=Timestamp('2019-12-12 00:00:00'), description='选择日期'), FloatSlider(valu…"
      ]
     },
     "metadata": {},
     "output_type": "display_data"
    },
    {
     "data": {
      "text/plain": [
       "<function surveillance.Amt_OBV20_pre(date='2020-12-31', threshold=4)>"
      ]
     },
     "metadata": {},
     "output_type": "display_data"
    }
   ],
   "source": [
    "display(HTML(\"\"\"\n",
    "<h2>持股数量占20日成交量指标监测模块 (A股市场)</h2>\n",
    "<p><b> 该模块监控持股数量比20日平均成交量大于200%的所有组合产品 </b></p>\n",
    "<hr />\n",
    "<ul style = \"background-color:#E0E0E0\">\n",
    "<li> 第一个框为日期选择框，选择一个需要查询的特定日期   <br/><br/> </li>\n",
    "<li> 滑动第二个筛选条选择监测数值，筛选所有当天高于该数值的组合产品</li>\n",
    "</ul>\n",
    "<b>PS:</b> 仅计算了距离查询日期计算样本数量大于10的产品净值波动率\n",
    "\"\"\"))\n",
    "\n",
    "Amt_OBV20_interact()"
   ]
  },
  {
   "cell_type": "code",
   "execution_count": 6,
   "metadata": {
    "ExecuteTime": {
     "end_time": "2021-05-14T02:41:49.115085Z",
     "start_time": "2021-05-14T02:41:48.229329Z"
    }
   },
   "outputs": [
    {
     "data": {
      "text/html": [
       "\n",
       "<h2> 停牌个股数据（A股市场）</h2>\n",
       "<p><b> 该模块监控当日所有产品中停牌的股票 </b></p>\n",
       "<hr />\n",
       "\n",
       "<ul style = \"background-color:#E0E0E0\">\n",
       "<li> 第一个框为日期选择框，选择一个需要查询的特定日期 <br/><br/> </li>\n",
       "<li> 第二个选项选择是否查看新增停牌列 <br/><br/>  </li>\n",
       "<li> 如果今日停牌股票在昨日也为停牌股票，则为\"NO\"；如果今日停牌股票昨日没有停牌，则为\"YES\"</li>\n",
       "</ul>\n"
      ],
      "text/plain": [
       "<IPython.core.display.HTML object>"
      ]
     },
     "metadata": {},
     "output_type": "display_data"
    },
    {
     "data": {
      "application/vnd.jupyter.widget-view+json": {
       "model_id": "64a2d0ef31cf4d9e94f6e82f5966d0c0",
       "version_major": 2,
       "version_minor": 0
      },
      "text/plain": [
       "interactive(children=(DatePicker(value=Timestamp('2019-12-12 00:00:00'), description='选择日期'), Checkbox(value=T…"
      ]
     },
     "metadata": {},
     "output_type": "display_data"
    },
    {
     "data": {
      "text/plain": [
       "<function surveillance.suspension_pre(date, pre_sus, only_presus)>"
      ]
     },
     "metadata": {},
     "output_type": "display_data"
    }
   ],
   "source": [
    "display(HTML(\"\"\"\n",
    "<h2> 停牌个股数据（A股市场）</h2>\n",
    "<p><b> 该模块监控当日所有产品中停牌的股票 </b></p>\n",
    "<hr />\n",
    "\n",
    "<ul style = \"background-color:#E0E0E0\">\n",
    "<li> 第一个框为日期选择框，选择一个需要查询的特定日期 <br/><br/> </li>\n",
    "<li> 第二个选项选择是否查看新增停牌列 <br/><br/>  </li>\n",
    "<li> 如果今日停牌股票在昨日也为停牌股票，则为\"NO\"；如果今日停牌股票昨日没有停牌，则为\"YES\"</li>\n",
    "</ul>\n",
    "\"\"\"))\n",
    "\n",
    "sus_interact()"
   ]
  },
  {
   "cell_type": "code",
   "execution_count": 7,
   "metadata": {},
   "outputs": [
    {
     "data": {
      "text/html": [
       "\n",
       "<div>\n",
       "<h2>退市风险监控</h2>\n",
       "<p><b> 该模块监控投资标的有退市风险的 (即当日被特别处理ST的) 产品 </b></p>\n",
       "<hr />\n",
       "\n",
       "<ul style = \"background-color:#E0E0E0\">\n",
       "    <li> 提醒新增的退市风险<br/><br/></li>\n",
       "    <li> 第一个框为日期选择框，选择一个需要查询的特定日期</li>\n",
       "</ul>\n",
       "</div>\n"
      ],
      "text/plain": [
       "<IPython.core.display.HTML object>"
      ]
     },
     "metadata": {},
     "output_type": "display_data"
    },
    {
     "data": {
      "application/vnd.jupyter.widget-view+json": {
       "model_id": "f13977a180fc4f419f934a81c8339641",
       "version_major": 2,
       "version_minor": 0
      },
      "text/plain": [
       "interactive(children=(DatePicker(value=Timestamp('2019-12-12 00:00:00'), description='结束日期'), Output()), _dom_…"
      ]
     },
     "metadata": {},
     "output_type": "display_data"
    },
    {
     "data": {
      "text/plain": [
       "<function surveillance.ST_pre(date)>"
      ]
     },
     "metadata": {},
     "output_type": "display_data"
    }
   ],
   "source": [
    "hm5 = HTML(\"\"\"\n",
    "<div>\n",
    "<h2>退市风险监控</h2>\n",
    "<p><b> 该模块监控投资标的有退市风险的 (即当日被特别处理ST的) 产品 </b></p>\n",
    "<hr />\n",
    "\n",
    "<ul style = \"background-color:#E0E0E0\">\n",
    "    <li> 提醒新增的退市风险<br/><br/></li>\n",
    "    <li> 第一个框为日期选择框，选择一个需要查询的特定日期</li>\n",
    "</ul>\n",
    "</div>\n",
    "\"\"\")\n",
    "\n",
    "display(hm5)\n",
    "ST_interact()"
   ]
  },
  {
   "cell_type": "code",
   "execution_count": 8,
   "metadata": {
    "ExecuteTime": {
     "end_time": "2021-05-14T02:42:04.437739Z",
     "start_time": "2021-05-14T02:41:49.117083Z"
    }
   },
   "outputs": [
    {
     "data": {
      "text/html": [
       "\n",
       "<h2> 行业集中度监控模块 </h2>\n",
       "<p><b> 该模块主要监控行业集中度超过50%的公募产品 (采取申万行业分类方法) </b></p>\n",
       "<div>\n",
       "<p>该模块分为两个部分：</p>\n",
       "<li> 第一个部分查询所有组合的行业集中度 (所投行业净值/总净值)；<br/><br/> </li>\n",
       "<li> 第二个部分查询单个组合的行业集中度。</li>\n",
       "</div>\n",
       "<hr />\n",
       "\n",
       "<h3> 第一个部分 </h3>\n",
       "<ul style = \"background-color:#E0E0E0\">\n",
       "<li> 第一个框位行业分类等级选择框 <br/><br/> </li>\n",
       "<li> 第二个框为日期选择框，选择一个需要查询的特定日期  <br/><br/>  </li>\n",
       "<li> 第三个为数值筛选滑动条， 筛选高于该数值的所有数据 <br/><br/>  </li>\n",
       "<li> 第四个框为多选框，选择`ALL`则表示显示所有行业集中度，也可以仅选择显示想要看的行业。 <br/><br/> </li>\n",
       "<p> <b>按住 Shift 再点击行业名称可以多选</b> </p>\n",
       "</ul>\n",
       "\n",
       "<h3> 第二个部分 </h3>\n",
       "<ul style = \"background-color:#E0E0E0\">\n",
       "<li> 第一个框为日期选择框 <br/><br/> </li>\n",
       "<li> 第二个框请输入6位的组合代码</li>\n",
       "</ul>\n"
      ],
      "text/plain": [
       "<IPython.core.display.HTML object>"
      ]
     },
     "metadata": {},
     "output_type": "display_data"
    },
    {
     "data": {
      "application/vnd.jupyter.widget-view+json": {
       "model_id": "6a4d2d8f904841febc3b28736d6280c3",
       "version_major": 2,
       "version_minor": 0
      },
      "text/plain": [
       "interactive(children=(Dropdown(description='行业分类', options=('一级行业分类', '二级行业分类', '三级行业分类'), value='一级行业分类'), Ou…"
      ]
     },
     "metadata": {},
     "output_type": "display_data"
    },
    {
     "data": {
      "application/vnd.jupyter.widget-view+json": {
       "model_id": "bc69a267d7474f65b241e8d0eb62f47c",
       "version_major": 2,
       "version_minor": 0
      },
      "text/plain": [
       "interactive(children=(DatePicker(value=Timestamp('2019-12-12 00:00:00'), description='选择日期'), Dropdown(descrip…"
      ]
     },
     "metadata": {},
     "output_type": "display_data"
    },
    {
     "data": {
      "text/plain": [
       "<function surveillance.module4_interact.<locals>.f(x)>"
      ]
     },
     "metadata": {},
     "output_type": "display_data"
    },
    {
     "data": {
      "text/plain": [
       "<function surveillance.module4_pre(date, ind_class='一级行业分类', threshold=50, ind=['ALL'])>"
      ]
     },
     "metadata": {},
     "output_type": "display_data"
    },
    {
     "name": "stdout",
     "output_type": "stream",
     "text": [
      "\u001b[1;31m|********************************************单个组合行业集中度查询*********************************************|\n"
     ]
    },
    {
     "data": {
      "application/vnd.jupyter.widget-view+json": {
       "model_id": "83a24156402447faa97c53007772a6bd",
       "version_major": 2,
       "version_minor": 0
      },
      "text/plain": [
       "interactive(children=(DatePicker(value=Timestamp('2019-12-12 00:00:00'), description='选择日期'), Text(value='', d…"
      ]
     },
     "metadata": {},
     "output_type": "display_data"
    },
    {
     "data": {
      "text/plain": [
       "<function surveillance.module4_idv(date, port='')>"
      ]
     },
     "metadata": {},
     "output_type": "display_data"
    }
   ],
   "source": [
    "display(HTML(\"\"\"\n",
    "<h2> 行业集中度监控模块 </h2>\n",
    "<p><b> 该模块主要监控行业集中度超过50%的公募产品 (采取申万行业分类方法) </b></p>\n",
    "<div>\n",
    "<p>该模块分为两个部分：</p>\n",
    "<li> 第一个部分查询所有组合的行业集中度 (所投行业净值/总净值)；<br/><br/> </li>\n",
    "<li> 第二个部分查询单个组合的行业集中度。</li>\n",
    "</div>\n",
    "<hr />\n",
    "\n",
    "<h3> 第一个部分 </h3>\n",
    "<ul style = \"background-color:#E0E0E0\">\n",
    "<li> 第一个框位行业分类等级选择框 <br/><br/> </li>\n",
    "<li> 第二个框为日期选择框，选择一个需要查询的特定日期  <br/><br/>  </li>\n",
    "<li> 第三个为数值筛选滑动条， 筛选高于该数值的所有数据 <br/><br/>  </li>\n",
    "<li> 第四个框为多选框，选择`ALL`则表示显示所有行业集中度，也可以仅选择显示想要看的行业。 <br/><br/> </li>\n",
    "<p> <b>按住 Shift 再点击行业名称可以多选</b> </p>\n",
    "</ul>\n",
    "\n",
    "<h3> 第二个部分 </h3>\n",
    "<ul style = \"background-color:#E0E0E0\">\n",
    "<li> 第一个框为日期选择框 <br/><br/> </li>\n",
    "<li> 第二个框请输入6位的组合代码</li>\n",
    "</ul>\n",
    "\"\"\"))\n",
    "\n",
    "module4_interact()"
   ]
  },
  {
   "cell_type": "code",
   "execution_count": 9,
   "metadata": {
    "ExecuteTime": {
     "end_time": "2021-05-14T02:42:04.676285Z",
     "start_time": "2021-05-14T02:42:04.445735Z"
    }
   },
   "outputs": [
    {
     "data": {
      "text/html": [
       "\n",
       "<h2> 投资者结构查询 </h2>\n",
       "<p><b>该模块监控机构投资者大于80%且top1投资者大于20%的产品</b></p>\n",
       "<hr />\n",
       "\n",
       "<ul style = \"background-color:#E0E0E0\">\n",
       "<li> 第一个框为日期选择框，选择一个需要查询的特定日期 </li>\n",
       "<li> 后四个滑动条筛选高于该数值的数据 </li>\n",
       "</ul>\n"
      ],
      "text/plain": [
       "<IPython.core.display.HTML object>"
      ]
     },
     "metadata": {},
     "output_type": "display_data"
    },
    {
     "data": {
      "application/vnd.jupyter.widget-view+json": {
       "model_id": "a65b2d6c216f4bbe81c7a014a070ba0a",
       "version_major": 2,
       "version_minor": 0
      },
      "text/plain": [
       "interactive(children=(DatePicker(value=Timestamp('2019-12-12 00:00:00'), description='选择日期'), FloatSlider(valu…"
      ]
     },
     "metadata": {},
     "output_type": "display_data"
    },
    {
     "data": {
      "text/plain": [
       "<function surveillance.module5_pre(date, perc=0, fdt=80, ftop1=20, ftop10=0)>"
      ]
     },
     "metadata": {},
     "output_type": "display_data"
    }
   ],
   "source": [
    "display(HTML(\n",
    "\"\"\"\n",
    "<h2> 投资者结构查询 </h2>\n",
    "<p><b>该模块监控机构投资者大于80%且top1投资者大于20%的产品</b></p>\n",
    "<hr />\n",
    "\n",
    "<ul style = \"background-color:#E0E0E0\">\n",
    "<li> 第一个框为日期选择框，选择一个需要查询的特定日期 </li>\n",
    "<li> 后四个滑动条筛选高于该数值的数据 </li>\n",
    "</ul>\n",
    "\"\"\"))\n",
    "inv_layout_interact()"
   ]
  },
  {
   "cell_type": "code",
   "execution_count": 10,
   "metadata": {
    "ExecuteTime": {
     "end_time": "2021-05-14T02:42:13.297874Z",
     "start_time": "2021-05-14T02:42:04.679283Z"
    }
   },
   "outputs": [
    {
     "data": {
      "text/html": [
       "\n",
       "<h2> 一日可变现能力 </h2>\n",
       "<p><b> 该模块监控单日可变现能力低于20%的公募产品 </b></p>\n",
       "<p> 单日可变现能力由 <b>活期存款，利率债 和 非限售股票</b> 的净值比加和得出 </p>\n",
       "<hr />\n",
       "\n",
       "<ul style = \"background-color:#E0E0E0\">\n",
       "<li> 第一个框为日期选择框，选择一个需要查询的特定日期 </li>\n",
       "<li> 第二个滑动条筛选低于该数值的数据 </li>\n",
       "</ul>\n"
      ],
      "text/plain": [
       "<IPython.core.display.HTML object>"
      ]
     },
     "metadata": {},
     "output_type": "display_data"
    },
    {
     "data": {
      "application/vnd.jupyter.widget-view+json": {
       "model_id": "9576062fcff242a295f9980d0c247b92",
       "version_major": 2,
       "version_minor": 0
      },
      "text/plain": [
       "interactive(children=(DatePicker(value=Timestamp('2019-12-12 00:00:00'), description='选择日期'), FloatSlider(valu…"
      ]
     },
     "metadata": {},
     "output_type": "display_data"
    },
    {
     "data": {
      "text/plain": [
       "<function surveillance.port_liquidity1_pre(date, threshold='20')>"
      ]
     },
     "metadata": {},
     "output_type": "display_data"
    }
   ],
   "source": [
    "display(HTML(\n",
    "\"\"\"\n",
    "<h2> 一日可变现能力 </h2>\n",
    "<p><b> 该模块监控单日可变现能力低于20%的公募产品 </b></p>\n",
    "<p> 单日可变现能力由 <b>活期存款，利率债 和 非限售股票</b> 的净值比加和得出 </p>\n",
    "<hr />\n",
    "\n",
    "<ul style = \"background-color:#E0E0E0\">\n",
    "<li> 第一个框为日期选择框，选择一个需要查询的特定日期 </li>\n",
    "<li> 第二个滑动条筛选低于该数值的数据 </li>\n",
    "</ul>\n",
    "\"\"\"))\n",
    "\n",
    "liquidity1_interact()"
   ]
  },
  {
   "cell_type": "code",
   "execution_count": 11,
   "metadata": {},
   "outputs": [
    {
     "data": {
      "text/html": [
       "\n",
       "<div>\n",
       "<h2>异常波动情况（股票市场）</h2>\n",
       "<p><b> 该模块监控所有投资标的当日收益率低于-9%的产品 </b></p>\n",
       "<hr />\n",
       "\n",
       "<ul style=\"background-color:#E0E0E0\">\n",
       "    <li> 第一个框选择开始日期<br/><br/></li>\n",
       "    <li> 第二个框选择结束日期<br/><br/></li>\n",
       "    <li> 第三个滑动条可选择特定监控收益率（单击数字可直接编辑）<br/><br/></li>\n",
       "    <li> 第四个滑动条可选择特定监控净值比（单击数字可直接编辑）</li>\n",
       "</ul>\n",
       "\n",
       "<b>PS:</b> 只返回A股市场且上市日期大于<em>20天</em> 的股票 \n",
       "</div>\n"
      ],
      "text/plain": [
       "<IPython.core.display.HTML object>"
      ]
     },
     "metadata": {},
     "output_type": "display_data"
    },
    {
     "data": {
      "application/vnd.jupyter.widget-view+json": {
       "model_id": "b9609aa6673c4be1809b259838c9c8a8",
       "version_major": 2,
       "version_minor": 0
      },
      "text/plain": [
       "interactive(children=(DatePicker(value=Timestamp('2019-12-12 00:00:00'), description='结束日期'), FloatSlider(valu…"
      ]
     },
     "metadata": {},
     "output_type": "display_data"
    }
   ],
   "source": [
    "hm7 = HTML(\"\"\"\n",
    "<div>\n",
    "<h2>异常波动情况（股票市场）</h2>\n",
    "<p><b> 该模块监控所有投资标的当日收益率低于-9%的产品 </b></p>\n",
    "<hr />\n",
    "\n",
    "<ul style=\"background-color:#E0E0E0\">\n",
    "    <li> 第一个框选择开始日期<br/><br/></li>\n",
    "    <li> 第二个框选择结束日期<br/><br/></li>\n",
    "    <li> 第三个滑动条可选择特定监控收益率（单击数字可直接编辑）<br/><br/></li>\n",
    "    <li> 第四个滑动条可选择特定监控净值比（单击数字可直接编辑）</li>\n",
    "</ul>\n",
    "\n",
    "<b>PS:</b> 只返回A股市场且上市日期大于<em>20天</em> 的股票 \n",
    "</div>\n",
    "\"\"\")\n",
    "display(hm7)\n",
    "abnormal_voliticity_interact()"
   ]
  }
 ],
 "metadata": {
  "hide_input": false,
  "kernelspec": {
   "display_name": "Python 3",
   "language": "python",
   "name": "python3"
  },
  "language_info": {
   "codemirror_mode": {
    "name": "ipython",
    "version": 3
   },
   "file_extension": ".py",
   "mimetype": "text/x-python",
   "name": "python",
   "nbconvert_exporter": "python",
   "pygments_lexer": "ipython3",
   "version": "3.8.8"
  }
 },
 "nbformat": 4,
 "nbformat_minor": 4
}
